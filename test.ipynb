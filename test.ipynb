{
 "cells": [
  {
   "cell_type": "code",
   "execution_count": 13,
   "metadata": {},
   "outputs": [],
   "source": [
    "# pip install --upgrade python-binance\n",
    "# !pip install --upgrade websocket-client\n",
    "\n",
    "# api_key = 'orxThbVS0OyqnMZ1shu51RxPYXWS1HCA5lxc8mDQ6AH1MOHHslpBjgYXSflxnDJX'\n",
    "# api_secret = '8YBdmg31G7Wcv8GOuyAykXSPrUzhq7XCDGTOUHc4rjEm8kJhVTmKf4XqbOb5wUtP'"
   ]
  },
  {
   "cell_type": "code",
   "execution_count": 14,
   "metadata": {},
   "outputs": [],
   "source": [
    "import json\n",
    "import websocket\n",
    "import pandas as pd"
   ]
  },
  {
   "cell_type": "code",
   "execution_count": 15,
   "metadata": {},
   "outputs": [],
   "source": [
    "api_key = 'orxThbVS0OyqnMZ1shu51RxPYXWS1HCA5lxc8mDQ6AH1MOHHslpBjgYXSflxnDJX'\n",
    "api_secret = '8YBdmg31G7Wcv8GOuyAykXSPrUzhq7XCDGTOUHc4rjEm8kJhVTmKf4XqbOb5wUtP'"
   ]
  },
  {
   "cell_type": "code",
   "execution_count": 16,
   "metadata": {},
   "outputs": [],
   "source": [
    "symbol = 'ethbtc'\n",
    "socket = f'wss://stream.binance.com:9443/ws/{symbol}@kline_1m'"
   ]
  },
  {
   "cell_type": "code",
   "execution_count": 17,
   "metadata": {},
   "outputs": [],
   "source": [
    "t, o, h, l, c, v = [], [], [], [], [],  []\n",
    "\n",
    "def on_message(ws, message):\n",
    "    msg = json.loads(message)\n",
    "    bar = msg['k']\n",
    "    if bar['x'] == False:\n",
    "        t.append(bar['t'])\n",
    "        o.append(bar['o'])\n",
    "        h.append(bar['h'])\n",
    "        l.append(bar['l'])\n",
    "        c.append(bar['c'])\n",
    "        v.append(bar['v'])\n",
    "    print(message)\n",
    "def on_error(ws, error):\n",
    "    print(error)\n",
    "\n",
    "def on_close(ws, close_status_code, close_msg):\n",
    "    print(\"### closed ###\")\n",
    "    global df\n",
    "    bars = {'time':t, 'open':o, 'high':h, 'low':l, 'close':c, 'volume':v}\n",
    "    df = pd.DataFrame.from_dict(bars)\n",
    "    df.set_index('time', inplace = True)\n",
    "    print(df)\n",
    "\n",
    "def on_open(ws):\n",
    "    print(\"Opened connection\")"
   ]
  },
  {
   "cell_type": "code",
   "execution_count": 18,
   "metadata": {},
   "outputs": [],
   "source": [
    "ws = websocket.WebSocketApp(socket, on_open = on_open, on_message = on_message,\n",
    "                            on_error = on_error, on_close = on_close)"
   ]
  },
  {
   "cell_type": "code",
   "execution_count": 19,
   "metadata": {},
   "outputs": [
    {
     "name": "stdout",
     "output_type": "stream",
     "text": [
      "[SSL: CERTIFICATE_VERIFY_FAILED] certificate verify failed: self signed certificate in certificate chain (_ssl.c:997)\n",
      "### closed ###\n",
      "Empty DataFrame\n",
      "Columns: [open, high, low, close, volume]\n",
      "Index: []\n"
     ]
    },
    {
     "data": {
      "text/plain": [
       "True"
      ]
     },
     "execution_count": 19,
     "metadata": {},
     "output_type": "execute_result"
    }
   ],
   "source": [
    "ws.run_forever()"
   ]
  }
 ],
 "metadata": {
  "kernelspec": {
   "display_name": "venv",
   "language": "python",
   "name": "python3"
  },
  "language_info": {
   "codemirror_mode": {
    "name": "ipython",
    "version": 3
   },
   "file_extension": ".py",
   "mimetype": "text/x-python",
   "name": "python",
   "nbconvert_exporter": "python",
   "pygments_lexer": "ipython3",
   "version": "3.10.10"
  },
  "orig_nbformat": 4
 },
 "nbformat": 4,
 "nbformat_minor": 2
}
