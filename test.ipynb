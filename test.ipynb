{
 "cells": [
  {
   "cell_type": "code",
   "execution_count": 10,
   "metadata": {},
   "outputs": [],
   "source": [
    "import certifi\n",
    "import streamlit as st\n",
    "\n",
    "from bson.json_util import dumps\n",
    "from pymongo import MongoClient, change_stream\n",
    "from urllib import parse"
   ]
  },
  {
   "cell_type": "code",
   "execution_count": 11,
   "metadata": {},
   "outputs": [],
   "source": [
    "def init_connection():\n",
    "    env = st.secrets['mongo']\n",
    "    db_host = env['db_host']\n",
    "    db_user = parse.quote_plus(env['db_user'])\n",
    "    db_pswd = parse.quote_plus(env['db_pswd'])\n",
    "    cluster = env['cluster']\n",
    "\n",
    "    URL = f'mongodb+srv://{ db_user }:{ db_pswd }@{ cluster }.{ db_host }/?retryWrites=true&w=majority'\n",
    "\n",
    "    return MongoClient(URL, tlsCAFile = certifi.where())"
   ]
  },
  {
   "cell_type": "code",
   "execution_count": 12,
   "metadata": {},
   "outputs": [],
   "source": [
    "client = init_connection()"
   ]
  },
  {
   "cell_type": "code",
   "execution_count": 13,
   "metadata": {},
   "outputs": [],
   "source": [
    "db = client.get_database('Binance')\n",
    "collect = db.get_collection('Klines')"
   ]
  },
  {
   "cell_type": "code",
   "execution_count": 31,
   "metadata": {},
   "outputs": [],
   "source": [
    "# pipeline = [\n",
    "#     {'match': {'fullDocument': 'mark'}}\n",
    "# ]\n",
    "\n",
    "pipeline = [\n",
    "      {\n",
    "        \"$changeStream\": {\n",
    "          \"fullDocument\": \"updateLookup\"\n",
    "        }\n",
    "      }\n",
    "    ]"
   ]
  },
  {
   "cell_type": "code",
   "execution_count": 34,
   "metadata": {},
   "outputs": [
    {
     "ename": "TypeError",
     "evalue": "pipeline must be a list",
     "output_type": "error",
     "traceback": [
      "\u001b[1;31m---------------------------------------------------------------------------\u001b[0m",
      "\u001b[1;31mTypeError\u001b[0m                                 Traceback (most recent call last)",
      "Cell \u001b[1;32mIn[34], line 1\u001b[0m\n\u001b[1;32m----> 1\u001b[0m changeStream \u001b[39m=\u001b[39m collect\u001b[39m.\u001b[39;49mwatch({ \u001b[39m'\u001b[39;49m\u001b[39mfullDocument\u001b[39;49m\u001b[39m'\u001b[39;49m: \u001b[39m'\u001b[39;49m\u001b[39mupdateLookup\u001b[39;49m\u001b[39m'\u001b[39;49m })\n\u001b[0;32m      2\u001b[0m \u001b[39mfor\u001b[39;00m change \u001b[39min\u001b[39;00m changeStream:\n\u001b[0;32m      3\u001b[0m     \u001b[39mprint\u001b[39m(dumps(change))\n",
      "File \u001b[1;32mc:\\Users\\vudh2\\Desktop\\Python Project\\Trailling-Stop-Binance\\.venv\\Lib\\site-packages\\pymongo\\collection.py:2617\u001b[0m, in \u001b[0;36mCollection.watch\u001b[1;34m(self, pipeline, full_document, resume_after, max_await_time_ms, batch_size, collation, start_at_operation_time, session, start_after, comment, full_document_before_change, show_expanded_events)\u001b[0m\n\u001b[0;32m   2492\u001b[0m \u001b[39mdef\u001b[39;00m \u001b[39mwatch\u001b[39m(\n\u001b[0;32m   2493\u001b[0m     \u001b[39mself\u001b[39m,\n\u001b[0;32m   2494\u001b[0m     pipeline: Optional[_Pipeline] \u001b[39m=\u001b[39m \u001b[39mNone\u001b[39;00m,\n\u001b[1;32m   (...)\u001b[0m\n\u001b[0;32m   2505\u001b[0m     show_expanded_events: Optional[\u001b[39mbool\u001b[39m] \u001b[39m=\u001b[39m \u001b[39mNone\u001b[39;00m,\n\u001b[0;32m   2506\u001b[0m ) \u001b[39m-\u001b[39m\u001b[39m>\u001b[39m CollectionChangeStream[_DocumentType]:\n\u001b[0;32m   2507\u001b[0m \u001b[39m    \u001b[39m\u001b[39m\"\"\"Watch changes on this collection.\u001b[39;00m\n\u001b[0;32m   2508\u001b[0m \n\u001b[0;32m   2509\u001b[0m \u001b[39m    Performs an aggregation with an implicit initial ``$changeStream``\u001b[39;00m\n\u001b[1;32m   (...)\u001b[0m\n\u001b[0;32m   2615\u001b[0m \u001b[39m        https://github.com/mongodb/specifications/blob/master/source/change-streams/change-streams.rst\u001b[39;00m\n\u001b[0;32m   2616\u001b[0m \u001b[39m    \"\"\"\u001b[39;00m\n\u001b[1;32m-> 2617\u001b[0m     \u001b[39mreturn\u001b[39;00m CollectionChangeStream(\n\u001b[0;32m   2618\u001b[0m         \u001b[39mself\u001b[39;49m,\n\u001b[0;32m   2619\u001b[0m         pipeline,\n\u001b[0;32m   2620\u001b[0m         full_document,\n\u001b[0;32m   2621\u001b[0m         resume_after,\n\u001b[0;32m   2622\u001b[0m         max_await_time_ms,\n\u001b[0;32m   2623\u001b[0m         batch_size,\n\u001b[0;32m   2624\u001b[0m         collation,\n\u001b[0;32m   2625\u001b[0m         start_at_operation_time,\n\u001b[0;32m   2626\u001b[0m         session,\n\u001b[0;32m   2627\u001b[0m         start_after,\n\u001b[0;32m   2628\u001b[0m         comment,\n\u001b[0;32m   2629\u001b[0m         full_document_before_change,\n\u001b[0;32m   2630\u001b[0m         show_expanded_events,\n\u001b[0;32m   2631\u001b[0m     )\n",
      "File \u001b[1;32mc:\\Users\\vudh2\\Desktop\\Python Project\\Trailling-Stop-Binance\\.venv\\Lib\\site-packages\\pymongo\\change_stream.py:116\u001b[0m, in \u001b[0;36mChangeStream.__init__\u001b[1;34m(self, target, pipeline, full_document, resume_after, max_await_time_ms, batch_size, collation, start_at_operation_time, session, start_after, comment, full_document_before_change, show_expanded_events)\u001b[0m\n\u001b[0;32m    114\u001b[0m \u001b[39mif\u001b[39;00m pipeline \u001b[39mis\u001b[39;00m \u001b[39mNone\u001b[39;00m:\n\u001b[0;32m    115\u001b[0m     pipeline \u001b[39m=\u001b[39m []\n\u001b[1;32m--> 116\u001b[0m pipeline \u001b[39m=\u001b[39m common\u001b[39m.\u001b[39;49mvalidate_list(\u001b[39m\"\u001b[39;49m\u001b[39mpipeline\u001b[39;49m\u001b[39m\"\u001b[39;49m, pipeline)\n\u001b[0;32m    117\u001b[0m common\u001b[39m.\u001b[39mvalidate_string_or_none(\u001b[39m\"\u001b[39m\u001b[39mfull_document\u001b[39m\u001b[39m\"\u001b[39m, full_document)\n\u001b[0;32m    118\u001b[0m validate_collation_or_none(collation)\n",
      "File \u001b[1;32mc:\\Users\\vudh2\\Desktop\\Python Project\\Trailling-Stop-Binance\\.venv\\Lib\\site-packages\\pymongo\\common.py:487\u001b[0m, in \u001b[0;36mvalidate_list\u001b[1;34m(option, value)\u001b[0m\n\u001b[0;32m    485\u001b[0m \u001b[39m\u001b[39m\u001b[39m\"\"\"Validates that 'value' is a list.\"\"\"\u001b[39;00m\n\u001b[0;32m    486\u001b[0m \u001b[39mif\u001b[39;00m \u001b[39mnot\u001b[39;00m \u001b[39misinstance\u001b[39m(value, \u001b[39mlist\u001b[39m):\n\u001b[1;32m--> 487\u001b[0m     \u001b[39mraise\u001b[39;00m \u001b[39mTypeError\u001b[39;00m(\u001b[39m\"\u001b[39m\u001b[39m%s\u001b[39;00m\u001b[39m must be a list\u001b[39m\u001b[39m\"\u001b[39m \u001b[39m%\u001b[39m (option,))\n\u001b[0;32m    488\u001b[0m \u001b[39mreturn\u001b[39;00m value\n",
      "\u001b[1;31mTypeError\u001b[0m: pipeline must be a list"
     ]
    }
   ],
   "source": [
    "changeStream = collect.watch({ 'fullDocument': 'updateLookup' })\n",
    "for change in changeStream:\n",
    "    print(dumps(change))\n",
    "    print('')\n"
   ]
  },
  {
   "cell_type": "code",
   "execution_count": null,
   "metadata": {},
   "outputs": [],
   "source": [
    "{\n",
    "    \"_id\": {\"_data\": \"82646EE6DE000000062B022C0100296E5A100457C2C03E9BE041C88A65477B9CAEE26046645F69640064646E4E9604283E1075734F1A0004\"},\n",
    "    \"operationType\": \"update\",\n",
    "    \"clusterTime\": {\"$timestamp\": {\"t\": 1684989662, \"i\": 6}},\n",
    "    \"wallTime\": {\"$date\": \"2023-05-25T04:41:02.747Z\"},\n",
    "    \"ns\": {\"db\": \"Binance\", \"coll\": \"Klines\"},\n",
    "    \"documentKey\": {\"_id\": {\"$oid\": \"646e4e9604283e1075734f1a\"}},\n",
    "    \"updateDescription\": {\"updatedFields\": {\"pet\": \"dgo\"}, \"removedFields\": [], \"truncatedArrays\": []}\n",
    "}"
   ]
  }
 ],
 "metadata": {
  "kernelspec": {
   "display_name": "venv",
   "language": "python",
   "name": "python3"
  },
  "language_info": {
   "codemirror_mode": {
    "name": "ipython",
    "version": 3
   },
   "file_extension": ".py",
   "mimetype": "text/x-python",
   "name": "python",
   "nbconvert_exporter": "python",
   "pygments_lexer": "ipython3",
   "version": "3.11.1"
  },
  "orig_nbformat": 4
 },
 "nbformat": 4,
 "nbformat_minor": 2
}
